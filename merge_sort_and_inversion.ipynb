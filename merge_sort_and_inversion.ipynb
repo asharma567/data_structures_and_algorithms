{
 "cells": [
  {
   "cell_type": "code",
   "execution_count": 1,
   "metadata": {
    "collapsed": true
   },
   "outputs": [],
   "source": [
    "import numpy as npa\n"
   ]
  },
  {
   "cell_type": "code",
   "execution_count": 16,
   "metadata": {
    "collapsed": false,
    "scrolled": true
   },
   "outputs": [],
   "source": [
    "test_list = list(np.random.randint(10000, size=100))\n",
    "test_list = [2, 4, 1, 3, 5]"
   ]
  },
  {
   "cell_type": "code",
   "execution_count": 29,
   "metadata": {
    "collapsed": true
   },
   "outputs": [],
   "source": [
    "compare = lambda x,y: 1 if x > y else 0"
   ]
  },
  {
   "cell_type": "code",
   "execution_count": 43,
   "metadata": {
    "collapsed": false
   },
   "outputs": [
    {
     "data": {
      "text/plain": [
       "[(2, 1), (4, 1), (4, 3)]"
      ]
     },
     "execution_count": 43,
     "metadata": {},
     "output_type": "execute_result"
    }
   ],
   "source": [
    "output = []\n",
    "\n",
    "#naive approach\n",
    "for idx, item_1 in enumerate(test_list):\n",
    "    for item_2 in test_list[idx + 1:]:\n",
    "        if item_1 > item_2:\n",
    "            output.append((item_1, item_2))\n",
    "        \n",
    "output"
   ]
  },
  {
   "cell_type": "code",
   "execution_count": null,
   "metadata": {
    "collapsed": true
   },
   "outputs": [],
   "source": [
    "def merge(R_list, L_list):\n",
    "    output = len(R_list + L_list) * [0]\n",
    "    index_r, index_l = 0, 0\n",
    "    i=0\n",
    "\n",
    "    while index_r < len(R_list) and index_l < len(L_list):\n",
    "        \n",
    "        #assignment\n",
    "        curr_l = L_list[index_l]\n",
    "        curr_r = R_list[index_r]\n",
    "        \n",
    "        #comparison\n",
    "        if curr_r > curr_l:\n",
    "            output[i] = curr_l\n",
    "            index_l += 1\n",
    "        else:\n",
    "            output[i] = curr_r\n",
    "            index_r += 1\n",
    "        i += 1\n",
    "\n",
    "    while index_r < len(R_list):\n",
    "        output[i] = R_list[index_r]\n",
    "        index_r += 1\n",
    "        i += 1\n",
    "\n",
    "    while index_l < len(L_list):\n",
    "        output[i] = L_list[index_l]\n",
    "        index_l += 1\n",
    "        i += 1\n",
    "\n",
    "    return output"
   ]
  },
  {
   "cell_type": "code",
   "execution_count": 65,
   "metadata": {
    "collapsed": false
   },
   "outputs": [
    {
     "name": "stdout",
     "output_type": "stream",
     "text": [
      "[2, 4, 1, 3, 5]\n",
      "6\n"
     ]
    }
   ],
   "source": [
    "def merge_sort(unsorted_list, c):\n",
    "    if len(unsorted_list) < 2:\n",
    "        return unsorted_list\n",
    "    mid = len(unsorted_list) / 2\n",
    "    \n",
    "    return merge(unsorted_list[:mid], unsorted_list[mid:], c)\n",
    "\n",
    "\n",
    "def merge(R_list, L_list, c):\n",
    "    output = []\n",
    "    \n",
    "    #not sure why this needs to be done\n",
    "    R_list.reverse()\n",
    "    L_list.reverse()\n",
    "    \n",
    "    while R_list and L_list:\n",
    "        s = R_list if L_list[-1] > R_list[-1] else R_list\n",
    "        output.append(s.pop())\n",
    "        if s == R_list: c[0] += len(L_list)\n",
    "        \n",
    "        #counter piece\n",
    "    \n",
    "    remainder = R_list if R_list else L_list\n",
    "    remainder.reverse() \n",
    "    output.extend(remainder)\n",
    "    \n",
    "    return output\n",
    "\n",
    "unsorted = [10,2,3,22,33,7,4,1,2]\n",
    "count = [0]\n",
    "print merge_sort(test_list, count)\n",
    "print count[0]"
   ]
  },
  {
   "cell_type": "code",
   "execution_count": 59,
   "metadata": {
    "collapsed": false
   },
   "outputs": [
    {
     "name": "stdout",
     "output_type": "stream",
     "text": [
      "[1, 2, 3, 4, 5]\n",
      "3\n"
     ]
    }
   ],
   "source": [
    "count = 0\n",
    "\n",
    "def merge_sort(li):\n",
    "\n",
    "    if len(li) < 2: return li \n",
    "    m = len(li) / 2 \n",
    "    return merge(merge_sort(li[:m]), merge_sort(li[m:])) \n",
    "\n",
    "def merge(l, r):\n",
    "    global count\n",
    "    result = [] \n",
    "    i = j = 0 \n",
    "    while i < len(l) and j < len(r): \n",
    "        if l[i] < r[j]: \n",
    "            result.append(l[i])\n",
    "            i += 1 \n",
    "        else: \n",
    "            result.append(r[j])\n",
    "            count = count + (len(l) - i)\n",
    "            j += 1\n",
    "    result.extend(l[i:]) \n",
    "    result.extend(r[j:]) \n",
    "    return result\n",
    "\n",
    "unsorted = test_list[:]\n",
    "print merge_sort(unsorted)\n",
    "print count"
   ]
  },
  {
   "cell_type": "code",
   "execution_count": 57,
   "metadata": {
    "collapsed": false
   },
   "outputs": [
    {
     "data": {
      "text/plain": [
       "0"
      ]
     },
     "execution_count": 57,
     "metadata": {},
     "output_type": "execute_result"
    }
   ],
   "source": [
    "def compare_the_two(R, L):\n",
    "    ctr = 0\n",
    "    index = 0\n",
    "    \n",
    "    while index < len(R) and index < len(L):\n",
    "        \n",
    "        ctr += 1 if R[index] > L[index] else 0\n",
    "        index += 1\n",
    "\n",
    "    return ctr\n",
    "\n",
    "def brute_comparison(some_list):\n",
    "    ctr = 0\n",
    "    for idx_1, item_1 in enumerate(some_list):\n",
    "        for idx_2, item_2 in enumerate(some_list[idx_1:]):\n",
    "            ctr += 1 if item_1 > item_2 else 0\n",
    "    return ctr\n",
    "    \n",
    "#     for idx, item_1 in enumerate(test_list):\n",
    "#         for item_2 in test_list[idx + 1:]:\n",
    "#             if item_1 > item_2:\n",
    "#                 output.append((item_1, item_2))\n",
    "    \n",
    "compare_the_two([1],[1])\n",
    "\n",
    "# brute_comparison(test_list)"
   ]
  },
  {
   "cell_type": "code",
   "execution_count": 55,
   "metadata": {
    "collapsed": false
   },
   "outputs": [
    {
     "name": "stdout",
     "output_type": "stream",
     "text": [
      "[1, 3, 5] [2, 4]\n",
      "[3, 5] [1]\n",
      "[5] [3]\n"
     ]
    },
    {
     "ename": "TypeError",
     "evalue": "object of type 'int' has no len()",
     "output_type": "error",
     "traceback": [
      "\u001b[0;31m---------------------------------------------------------------------------\u001b[0m",
      "\u001b[0;31mTypeError\u001b[0m                                 Traceback (most recent call last)",
      "\u001b[0;32m<ipython-input-55-44aad1ac77db>\u001b[0m in \u001b[0;36m<module>\u001b[0;34m()\u001b[0m\n\u001b[1;32m     15\u001b[0m     \u001b[0;32mreturn\u001b[0m \u001b[0mcompare_the_two\u001b[0m\u001b[0;34m(\u001b[0m\u001b[0mR\u001b[0m\u001b[0;34m,\u001b[0m \u001b[0mL\u001b[0m\u001b[0;34m)\u001b[0m\u001b[0;34m\u001b[0m\u001b[0m\n\u001b[1;32m     16\u001b[0m \u001b[0;34m\u001b[0m\u001b[0m\n\u001b[0;32m---> 17\u001b[0;31m \u001b[0mmerge_sort\u001b[0m\u001b[0;34m(\u001b[0m\u001b[0mtest_list\u001b[0m\u001b[0;34m)\u001b[0m\u001b[0;34m\u001b[0m\u001b[0m\n\u001b[0m",
      "\u001b[0;32m<ipython-input-55-44aad1ac77db>\u001b[0m in \u001b[0;36mmerge_sort\u001b[0;34m(n_unsorted_list)\u001b[0m\n\u001b[1;32m     10\u001b[0m \u001b[0;34m\u001b[0m\u001b[0m\n\u001b[1;32m     11\u001b[0m     \u001b[0;32mprint\u001b[0m \u001b[0mn_unsorted_list\u001b[0m\u001b[0;34m[\u001b[0m\u001b[0mmid_point\u001b[0m\u001b[0;34m:\u001b[0m\u001b[0;34m]\u001b[0m\u001b[0;34m,\u001b[0m \u001b[0mn_unsorted_list\u001b[0m\u001b[0;34m[\u001b[0m\u001b[0;34m:\u001b[0m\u001b[0mmid_point\u001b[0m\u001b[0;34m]\u001b[0m\u001b[0;34m\u001b[0m\u001b[0m\n\u001b[0;32m---> 12\u001b[0;31m     \u001b[0mL\u001b[0m \u001b[0;34m=\u001b[0m \u001b[0mmerge_sort\u001b[0m\u001b[0;34m(\u001b[0m\u001b[0mn_unsorted_list\u001b[0m\u001b[0;34m[\u001b[0m\u001b[0mmid_point\u001b[0m\u001b[0;34m:\u001b[0m\u001b[0;34m]\u001b[0m\u001b[0;34m)\u001b[0m\u001b[0;34m\u001b[0m\u001b[0m\n\u001b[0m\u001b[1;32m     13\u001b[0m     \u001b[0mR\u001b[0m \u001b[0;34m=\u001b[0m \u001b[0mmerge_sort\u001b[0m\u001b[0;34m(\u001b[0m\u001b[0mn_unsorted_list\u001b[0m\u001b[0;34m[\u001b[0m\u001b[0;34m:\u001b[0m\u001b[0mmid_point\u001b[0m\u001b[0;34m]\u001b[0m\u001b[0;34m)\u001b[0m\u001b[0;34m\u001b[0m\u001b[0m\n\u001b[1;32m     14\u001b[0m \u001b[0;34m\u001b[0m\u001b[0m\n",
      "\u001b[0;32m<ipython-input-55-44aad1ac77db>\u001b[0m in \u001b[0;36mmerge_sort\u001b[0;34m(n_unsorted_list)\u001b[0m\n\u001b[1;32m     13\u001b[0m     \u001b[0mR\u001b[0m \u001b[0;34m=\u001b[0m \u001b[0mmerge_sort\u001b[0m\u001b[0;34m(\u001b[0m\u001b[0mn_unsorted_list\u001b[0m\u001b[0;34m[\u001b[0m\u001b[0;34m:\u001b[0m\u001b[0mmid_point\u001b[0m\u001b[0;34m]\u001b[0m\u001b[0;34m)\u001b[0m\u001b[0;34m\u001b[0m\u001b[0m\n\u001b[1;32m     14\u001b[0m \u001b[0;34m\u001b[0m\u001b[0m\n\u001b[0;32m---> 15\u001b[0;31m     \u001b[0;32mreturn\u001b[0m \u001b[0mcompare_the_two\u001b[0m\u001b[0;34m(\u001b[0m\u001b[0mR\u001b[0m\u001b[0;34m,\u001b[0m \u001b[0mL\u001b[0m\u001b[0;34m)\u001b[0m\u001b[0;34m\u001b[0m\u001b[0m\n\u001b[0m\u001b[1;32m     16\u001b[0m \u001b[0;34m\u001b[0m\u001b[0m\n\u001b[1;32m     17\u001b[0m \u001b[0mmerge_sort\u001b[0m\u001b[0;34m(\u001b[0m\u001b[0mtest_list\u001b[0m\u001b[0;34m)\u001b[0m\u001b[0;34m\u001b[0m\u001b[0m\n",
      "\u001b[0;32m<ipython-input-54-5d969b9018a0>\u001b[0m in \u001b[0;36mcompare_the_two\u001b[0;34m(R, L)\u001b[0m\n\u001b[1;32m      3\u001b[0m     \u001b[0mindex\u001b[0m \u001b[0;34m=\u001b[0m \u001b[0;36m0\u001b[0m\u001b[0;34m\u001b[0m\u001b[0m\n\u001b[1;32m      4\u001b[0m \u001b[0;34m\u001b[0m\u001b[0m\n\u001b[0;32m----> 5\u001b[0;31m     \u001b[0;32mwhile\u001b[0m \u001b[0mindex\u001b[0m \u001b[0;34m<\u001b[0m \u001b[0mlen\u001b[0m\u001b[0;34m(\u001b[0m\u001b[0mR\u001b[0m\u001b[0;34m)\u001b[0m \u001b[0;32mand\u001b[0m \u001b[0mindex\u001b[0m \u001b[0;34m<\u001b[0m \u001b[0mlen\u001b[0m\u001b[0;34m(\u001b[0m\u001b[0mL\u001b[0m\u001b[0;34m)\u001b[0m\u001b[0;34m:\u001b[0m\u001b[0;34m\u001b[0m\u001b[0m\n\u001b[0m\u001b[1;32m      6\u001b[0m \u001b[0;34m\u001b[0m\u001b[0m\n\u001b[1;32m      7\u001b[0m         \u001b[0mctr\u001b[0m \u001b[0;34m+=\u001b[0m \u001b[0;36m1\u001b[0m \u001b[0;32mif\u001b[0m \u001b[0mR\u001b[0m\u001b[0;34m[\u001b[0m\u001b[0mindex\u001b[0m\u001b[0;34m]\u001b[0m \u001b[0;34m>\u001b[0m \u001b[0mL\u001b[0m\u001b[0;34m[\u001b[0m\u001b[0mindex\u001b[0m\u001b[0;34m]\u001b[0m \u001b[0;32melse\u001b[0m \u001b[0;36m0\u001b[0m\u001b[0;34m\u001b[0m\u001b[0m\n",
      "\u001b[0;31mTypeError\u001b[0m: object of type 'int' has no len()"
     ]
    }
   ],
   "source": [
    "\n",
    "def merge_sort(n_unsorted_list):\n",
    "\n",
    "    #base case\n",
    "    if len(n_unsorted_list) < 2: \n",
    "        return n_unsorted_list[:]\n",
    "    \n",
    "    #divide\n",
    "    mid_point = len(n_unsorted_list) // 2\n",
    "    \n",
    "    print n_unsorted_list[mid_point:], n_unsorted_list[:mid_point]\n",
    "    L = merge_sort(n_unsorted_list[mid_point:])\n",
    "    R = merge_sort(n_unsorted_list[:mid_point])\n",
    "    \n",
    "    return compare_the_two(R, L)\n",
    "\n",
    "merge_sort(test_list)"
   ]
  }
 ],
 "metadata": {
  "kernelspec": {
   "display_name": "Python 2",
   "language": "python",
   "name": "python2"
  },
  "language_info": {
   "codemirror_mode": {
    "name": "ipython",
    "version": 2
   },
   "file_extension": ".py",
   "mimetype": "text/x-python",
   "name": "python",
   "nbconvert_exporter": "python",
   "pygments_lexer": "ipython2",
   "version": "2.7.11"
  }
 },
 "nbformat": 4,
 "nbformat_minor": 0
}
